{
 "cells": [
  {
   "cell_type": "code",
   "execution_count": 1,
   "metadata": {},
   "outputs": [],
   "source": [
    "import numpy as np"
   ]
  },
  {
   "cell_type": "markdown",
   "metadata": {},
   "source": [
    "### ANOVA\n",
    "\n",
    "- One way ANOVA equation: $$Y_{ij} = \\theta_{i} + \\epsilon_{ij}, \\text{ with: } i = 1,..., k \\text{ and } j = 1,..., n_{i}$$\n",
    "    * $i$ = treatment\n",
    "    * $j$ = observation\n",
    "- Assumptions:\n",
    "    1. $E[\\epsilon_{ij}] = 0 , \\text{ Var}\\epsilon_{ij} = \\sigma^2_{i} < \\infty$\n",
    "    \n",
    "       $\\text{Cov}(\\epsilon_{ij}\\epsilon_{i'j'}) = 0, \\text{ unless } i=i' \\text{ and } j=j'$\n",
    "    2. $\\epsilon_{ij}$ are independently and normally distributed\n",
    "    3. Homoscedasicity\n",
    "- If data doesn't meet the assumptions can transform or rely on CLT\n",
    "- Requires identifiability, each $\\theta$ has a unique distribution\n",
    "    * Otherwise it's impossible to tell label future observations   \n",
    "- Hypothesises:\n",
    "    * $H_0: \\theta_1 = \\theta_2 = ... = \\theta_k$\n",
    "    * $H_1: \\theta_i \\neq \\theta_j$ for some $i, j$\n",
    "    \n",
    "    \n",
    " - Pooled variance: $$S^{2}_{p} = \\frac{1}{N-k}\\sum^{k}_{i=1}(n_{1}-1)S^{2}_{1} = \\frac{1}{N-k}\\sum^{k}_{i=1}\\sum^{n_{i}}_{j=1}(Y_{ij}-\\bar{Y_{i}})^{2}$$\n",
    " \n",
    " - t statistic: $$\\abs{\\frac{\\bar{Y_{1.}}\\bar{Y_{2.}}}{\\sqrt{S^{2}_{p}(\\frac{1}{n_1} + \\frac{1}{n_2}})}} > t_{N-k, \\alpha/2}$$\n",
    " - ANOVA F test: $$\\text{reject } H_0 \\text{ if } F = \\frac{\\sum^{k}_{i=1}n_{i}((\\bar{Y_{i.}} - \\bar{\\bar{Y}}))^{2}/(k-1)}{S^{2}_{p}} > F_{k-1, N-K, \\alpha}$$"
   ]
  },
  {
   "cell_type": "markdown",
   "metadata": {},
   "source": [
    "- Sum of squares = (SS within) + (SS between)\n",
    "    * This is easy to look at than some complicated equation\n",
    "    * Are chi-square random variables\n",
    "    * If $H_0$ is true:\n",
    "        - (SS between) $ \\sim\\chi^2_{k-1}$\n",
    "        - (SS total) $ \\sim\\chi^2_{N-1}$"
   ]
  },
  {
   "cell_type": "markdown",
   "metadata": {},
   "source": [
    "![](figures/anova_table.png)"
   ]
  },
  {
   "cell_type": "markdown",
   "metadata": {},
   "source": [
    "### Simple Linear Regression\n",
    "\n",
    "- Population regression function: $E[Y_i] = \\beta_0 + \\beta x_i$\n",
    "    * Assumes: $E[\\epsilon] = 0$\n",
    "- Another form: $E[Y_i|x_i] \\approx \\beta_0 + \\beta x_i$\n",
    "\n",
    "#### Algebraic solution\n",
    "- Estimating perameters:\n",
    "    * $\\beta_0 = \\bar{y} - \\beta\\bar{x}$\n",
    "    * $\\beta = \\frac{S_{xy}}{S_{xx}}$"
   ]
  }
 ],
 "metadata": {
  "kernelspec": {
   "display_name": "Python 3",
   "language": "python",
   "name": "python3"
  },
  "language_info": {
   "codemirror_mode": {
    "name": "ipython",
    "version": 3
   },
   "file_extension": ".py",
   "mimetype": "text/x-python",
   "name": "python",
   "nbconvert_exporter": "python",
   "pygments_lexer": "ipython3",
   "version": "3.7.0"
  }
 },
 "nbformat": 4,
 "nbformat_minor": 2
}
