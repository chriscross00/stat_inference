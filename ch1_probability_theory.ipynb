{
 "cells": [
  {
   "cell_type": "markdown",
   "metadata": {},
   "source": [
    "## 1.1 Set Theory\n",
    "\n",
    "- Sample space ($S$) = set of all possible outcomes of a experiment\n",
    "- Event = any subset of $S$, including $S$ itself\n",
    "- Bassic set operations:\n",
    "    * Union: $A \\cup B = {x:x \\in A \\text{ or } x \\in B}$\n",
    "    * Intersection: $A \\cap B = {x:x \\in A \\text{ and } x \\in B}$\n",
    "    * Complement: $A^c = {x:x \\notin A}$\n",
    "- Set properties:\n",
    "    * Commutative: $A \\cup B = B \\cup A$, $A \\cap B = B \\cap A$\n",
    "    * Associative: $A \\cup (B \\cup C) = A \\cup B) \\cup C$, $A \\cap (B \\cap C) = (A \\cap B) \\cap C$\n",
    "    * Distributive: $A \\cup (B \\cap C) = (A \\cup B) \\cap (A \\cup C)$, $A \\cap (B \\cup C) = (A \\cap B) \\cup (A \\cap C)$\n",
    "    * DeMorgan's Law: $(A \\cup B)^c = A^c \\cap B^c$, $(A \\cap B)^c = A^c \\cup B^c$"
   ]
  },
  {
   "cell_type": "markdown",
   "metadata": {},
   "source": [
    "## 1.2 Basics of Probability Theory\n",
    "\n",
    "- If $S$ has $n$ elements, then there are $2^n$ subsets\n",
    "- Axioms of Probability:\n",
    "    1. $P(A) \\geq 0 \\text{ for all } A \\in B$\n",
    "    2. $P(S) = 1$\n",
    "    3. If $A_1,... A_n \\in $ are pairwise disjoint, then $P(\\cup^{\\infty}_{i=1}A_i) = \\sum^{\\infty}_{i=1}P(A_i)$"
   ]
  },
  {
   "cell_type": "markdown",
   "metadata": {},
   "source": [
    "## 1.3 Conditional Probability and Independence\n",
    "\n",
    "- Conditional probability: $P(A|B) = \\frac{P(A \\cap B)}{P(B)}$\n",
    "- Statistical independence: $P(A \\cap B) = P(A)P(B)$"
   ]
  },
  {
   "cell_type": "markdown",
   "metadata": {},
   "source": [
    "## 1.4 Random Variables\n",
    "\n",
    "- Random variable = function from $S$ into real numbers\n",
    "    * $P_x(X = x_i) = P({s_j \\in S:X(s_j) = x_i})$"
   ]
  },
  {
   "cell_type": "markdown",
   "metadata": {},
   "source": [
    "# 1.5 Distribution Functions\n",
    "\n",
    "- Cumulative distribution function (cdf): $F_x(x) = P_x(X \\leq x)$ for all $x$\n",
    "    * Requirements:\n",
    "        1. $\\underset{x \\rightarrow -\\infty}{lim} F(x) = 0$ and $\\underset{x \\rightarrow \\infty}{lim} F(x) = 1$\n",
    "        2. $F(x)$ is a nondecreasing function of $x$\n",
    "        3. $F(x)$ is right continuous\n"
   ]
  },
  {
   "cell_type": "markdown",
   "metadata": {},
   "source": [
    "## 1.6 Density and Mass Functions\n",
    "\n",
    "- Probablity mass function (pmf): $f(x) = P(X = x)$ for all $x$\n",
    "- Probability density function (pdf): $F_x(X) = \\int^x_{-\\infty} fx(t)dt$ for all $x$"
   ]
  }
 ],
 "metadata": {
  "kernelspec": {
   "display_name": "Python 3",
   "language": "python",
   "name": "python3"
  },
  "language_info": {
   "codemirror_mode": {
    "name": "ipython",
    "version": 3
   },
   "file_extension": ".py",
   "mimetype": "text/x-python",
   "name": "python",
   "nbconvert_exporter": "python",
   "pygments_lexer": "ipython3",
   "version": "3.7.0"
  }
 },
 "nbformat": 4,
 "nbformat_minor": 2
}
