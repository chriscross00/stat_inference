{
 "cells": [
  {
   "cell_type": "markdown",
   "metadata": {},
   "source": [
    "### 1.1\n",
    "1. {HHHH, HHHT, HHTH ... TTTT} 2^4 = 16 solutions\n",
    "2. If each leaf is a single observation, then $S = {1,..., n}$ \n",
    "3. $S = [0, \\infty)$ \n",
    "4. $S = (0, \\infty)$ Rats can't have a weight of 0 nor $\\infty$\n",
    "5. $S = {0/n, 1/n,..., 1}$"
   ]
  },
  {
   "cell_type": "markdown",
   "metadata": {},
   "source": [
    "### 1.5\n",
    "1. Identical female twins\n",
    "2. 1/90 * 1/3 * 1/2 = 1/1080"
   ]
  },
  {
   "cell_type": "markdown",
   "metadata": {},
   "source": [
    "### 1.7"
   ]
  }
 ],
 "metadata": {
  "kernelspec": {
   "display_name": "Python 3",
   "language": "python",
   "name": "python3"
  },
  "language_info": {
   "codemirror_mode": {
    "name": "ipython",
    "version": 3
   },
   "file_extension": ".py",
   "mimetype": "text/x-python",
   "name": "python",
   "nbconvert_exporter": "python",
   "pygments_lexer": "ipython3",
   "version": "3.7.0"
  }
 },
 "nbformat": 4,
 "nbformat_minor": 2
}
