{
 "cells": [
  {
   "cell_type": "markdown",
   "metadata": {},
   "source": [
    "## 7.1 Introduction\n",
    "\n",
    "- Point estimator = any function $W(X_1,..., X_n)$ of a sample\n",
    "    * Estimator is a function of a sample \n",
    "        - Estimate is the realized value from a estimator"
   ]
  },
  {
   "cell_type": "markdown",
   "metadata": {},
   "source": [
    "## 7.2 Methods of Finding Estimators\n",
    "\n",
    "- Maximum likelihood estimators (MLE) = for sample point $x_i$, let $\\hat{\\theta(x)}$ is value that maximizes $L(\\theta|x)$, with a constant $x$  \n",
    "    * Likelihood function: ($L(\\theta|x)$) = $L(\\theta_1,...,\\theta_k | x_1,...,x_n) = \\prod^n_{i=1}f(x_i|\\theta_1,...,\\theta_k)$\n",
    "    * Possible candidates are those that solves: $\\frac{\\partial}{\\partial \\theta_i} L(\\theta|x) = 0$, $i = 1,...,k$\n",
    "        - These points are NOT necessarily global maximums\n",
    "        \n",
    "- Bayes estimator"
   ]
  }
 ],
 "metadata": {
  "kernelspec": {
   "display_name": "Python 3",
   "language": "python",
   "name": "python3"
  },
  "language_info": {
   "codemirror_mode": {
    "name": "ipython",
    "version": 3
   },
   "file_extension": ".py",
   "mimetype": "text/x-python",
   "name": "python",
   "nbconvert_exporter": "python",
   "pygments_lexer": "ipython3",
   "version": "3.7.0"
  }
 },
 "nbformat": 4,
 "nbformat_minor": 2
}
