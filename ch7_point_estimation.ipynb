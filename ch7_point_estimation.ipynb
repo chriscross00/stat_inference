{
 "cells": [
  {
   "cell_type": "markdown",
   "metadata": {},
   "source": [
    "## 7.1 Introduction\n",
    "\n",
    "- Point estimator = any function $W(X_1,..., X_n)$ of a sample\n",
    "    * Estimator is a function of a sample \n",
    "        - Estimate is the realized value from a estimator"
   ]
  },
  {
   "cell_type": "markdown",
   "metadata": {},
   "source": [
    "## 7.2 Methods of Finding Estimators\n",
    "\n",
    "- Maximum likelihood estimators (MLE) = for sample point $x_i$, let $\\hat{\\theta(x)}$ is value that maximizes $L(\\theta|x)$, with a constant $x$  \n",
    "    * Likelihood function: ($L(\\theta|x)$) = $L(\\theta_1,...,\\theta_k | x_1,...,x_n) = \\prod^n_{i=1}f(x_i|\\theta_1,...,\\theta_k)$\n",
    "    * Possible candidates are those that solves: $\\frac{\\partial}{\\partial \\theta_i} L(\\theta|x) = 0$, $i = 1,...,k$\n",
    "        - These points are NOT necessarily global maximums\n",
    "        \n",
    "- Bayes estimator"
   ]
  },
  {
   "cell_type": "markdown",
   "metadata": {},
   "source": [
    "## 7.3 Methods of Evaluating Estimators\n",
    "\n",
    "- Mean squared error: $E[(\\theta - W)^2]$\n",
    "    * Advantages:\n",
    "        - Can solve analytically\n",
    "        - Has alternative form: $Var_{\\theta}W + (Bias_{\\theta}W)^2$\n",
    "    * A estimator is unbiased if: $Bias_{\\theta}W = 0$ and satisfies $E_{\\theta}W = \\theta$\n",
    "        - Implies that MSE = $Var_{\\theta}W$ \n",
    "        \n",
    "- Best unbiased estimator = unbiased estimator that minimizes the variance\n",
    "    - $W^*$ is BUE if $Var_{\\theta}W^* \\leq Var_{\\theta}W$ for all $\\theta$\n",
    "    - Cramer-Rao Lower Bound (CRLB) - a lower bound on the variance of any unbiased estimator\n",
    "        * Simplified: $Var_{\\theta}(W(X)) = CRLB_{\\hat{\\theta}}(\\theta)$\n",
    "    - Information number/Fischer infromation = gives how much information about a unknown parameter we can get from a sample\n",
    "        * "
   ]
  },
  {
   "cell_type": "markdown",
   "metadata": {},
   "source": [
    "### Expected Value\n",
    "\n",
    "- The expected value is a singular number, the mean\n",
    "- For a continuous distribution:\n",
    "    * With $f(x)$: $\\int^{\\infty}_{-\\infty}xf(x)dx$\n",
    "    * With random variable $(g(x))$: $\\sum_x g(x)f(x)$"
   ]
  }
 ],
 "metadata": {
  "kernelspec": {
   "display_name": "Python 3",
   "language": "python",
   "name": "python3"
  },
  "language_info": {
   "codemirror_mode": {
    "name": "ipython",
    "version": 3
   },
   "file_extension": ".py",
   "mimetype": "text/x-python",
   "name": "python",
   "nbconvert_exporter": "python",
   "pygments_lexer": "ipython3",
   "version": "3.7.0"
  }
 },
 "nbformat": 4,
 "nbformat_minor": 2
}
