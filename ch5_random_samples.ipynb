{
 "cells": [
  {
   "cell_type": "markdown",
   "metadata": {},
   "source": [
    "## 5.1 Basic Concepts of Random Samples\n",
    "\n",
    "- Joint pdf/pmf: $f(x_1,..., x_n) = f(x_1)*...*f(x_n) = \\prod^n_{i=1}f(x_i)$ \n",
    "- Joint pdf/pmf of a parametric family: $f(x_1,..., x_n|\\theta) = \\prod^n_{i=1}f(x_i|\\theta)$\n",
    "- Samples can be drawn with and without replacement\n",
    "    * Samples drawn without replacement from large enough populations can be used to estimate samples drawn with replacement\n",
    " "
   ]
  },
  {
   "cell_type": "markdown",
   "metadata": {},
   "source": [
    "## 5.2 Sums of Random Variables from a Random Sample\n",
    "\n",
    "- Sampling distribution:  $Y = T(X_1,..., X_n)$"
   ]
  },
  {
   "cell_type": "markdown",
   "metadata": {},
   "source": [
    "## 5.3 Sampling from a Normal Distribution"
   ]
  },
  {
   "cell_type": "markdown",
   "metadata": {},
   "source": [
    "## 5.4 Order Statistics\n",
    "\n",
    "- Order statistics = sample values placed in ascending order\n",
    "    * Random sample $X_1,..., X_n$ has order $X_{(1)},..., X_{(n)}$\n",
    "        - Satisifies $X_{(1)} \\leq ... \\leq X_{(n)}$\n",
    "- Characteristics:\n",
    "    * Sample range: $R = X_{(n)} - X_{(1)}$\n",
    "    * Sample median ($M$): such that approximately half the samples are less than and the other half are greater than\n",
    "- Percentile: want $np$ observations less than and $n(1-p)$ greater than observation\n",
    "- pmf of $f_x(x_i) = p_i$: $P(X_{(j)} \\leq x_i) = \\sum^n_{k=j}{n \\choose k} P^k_i(1-P_i)^{n-k}$\n",
    "    * AKA the binomial distribution\n",
    "    * Fixed probability of success and failure\n",
    "- pdf of $X_{(j)}$: $fx_{(j)}(x) = \\frac{n!}{(j-1)!(n-j)!} f_x(x)[F_x(x)]^{j-1}[1-F_x(x)]^{n-j}$\n",
    "    * cdf of $F_x(x)$ and pdf of $f_x(x)$"
   ]
  },
  {
   "cell_type": "markdown",
   "metadata": {},
   "source": [
    "## 5.5 Convergence Concepts\n",
    "\n",
    "- Weak law of large numbers = for a sample of iid random variables $\\bar{X}_n \\text{ converges to } \\mu$\n",
    "    * $\\underset{n \\rightarrow \\infty}{lim} P(|\\bar{X}_n - \\mu| < \\epsilon) = 1$\n",
    "- Strong law of large numbers = for a sample of iid random variables $\\bar{X}_n \\text{ converges almost surely to } \\mu$\n",
    "    * $P(\\underset{n \\rightarrow \\infty}{lim}|\\bar{X}_n - \\mu| < \\epsilon) = 1$\n",
    "    \n",
    " - Central limit theorem (CLT) = for a sample of iid random variables with $E[X_i] = \\mu$ and Var$X_i = \\sigma^2 > 0$, the random variable \n",
    "$$Z_n = \\frac{\\bar{X} - \\mu}{\\sigma/\\sqrt{n}}$$\n",
    "converges on the standard normal distribution as $n$ goes to infinity. That is:\n",
    "$$\\underset{n \\rightarrow \\infty}{lim}P(Z_n \\leq x) = \\Phi(x) = \\int^x_{-\\infty} \\frac{1}{\\sqrt{2\\pi}}e^{-y^2/2}dy$$\n",
    "    * $\\Phi(x)$ is the cdf of the normal distribution\n",
    "    * Normality comes from sums of small, independent distributions\n",
    "    "
   ]
  },
  {
   "cell_type": "markdown",
   "metadata": {},
   "source": [
    "- Binomial distribution\n",
    "    * Fixed number of trials ($n$)\n",
    "    * Random variable is X = number of successes\n",
    "    * Possible values are $0 \\leq X \\leq n$\n",
    "- Negative binomial distribution\n",
    "    * Fixed number of successes ($r$)\n",
    "    * Random variableis Y = number of trials until the _r_th success\n",
    "    * Possible values are $r \\leq Y$"
   ]
  }
 ],
 "metadata": {
  "kernelspec": {
   "display_name": "Python 3",
   "language": "python",
   "name": "python3"
  },
  "language_info": {
   "codemirror_mode": {
    "name": "ipython",
    "version": 3
   },
   "file_extension": ".py",
   "mimetype": "text/x-python",
   "name": "python",
   "nbconvert_exporter": "python",
   "pygments_lexer": "ipython3",
   "version": "3.7.0"
  }
 },
 "nbformat": 4,
 "nbformat_minor": 2
}
