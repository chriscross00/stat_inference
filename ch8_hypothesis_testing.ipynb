{
 "cells": [
  {
   "cell_type": "markdown",
   "metadata": {},
   "source": [
    "## 8.1 Introduction\n",
    "\n",
    "- Test statistic: $W(X_1,..., X_n) = W(X)$"
   ]
  },
  {
   "cell_type": "markdown",
   "metadata": {},
   "source": [
    "## 8.2 Methods of Finding Tests\n",
    "\n",
    "- Likelihood ratio test (LRT): $\\lambda(x) = \\frac{\\underset{\\Theta_0}{\\sup}L(\\theta|x)}{\\underset{\\Theta}{\\sup}L(\\theta|x)}$\n",
    "    * $L(\\theta|x_1,..., x_n) = f(x|\\theta) = \\prod^n_{i=1}f(x_i|\\theta)$\n",
    "    * Denomitor is max probability of observed sample over all possible parameters\n",
    "        - Small likelihood implies rejecting $H_0$\n",
    "        \n",
    "- Bayesian tests\n",
    "    * Normal Bayesian test: accept $H_0$ if and only if $\\frac{1}{2} \\leq P(\\theta \\in \\Theta_0|X) = P(\\theta \\leq \\theta_0|X)$\n",
    "\n",
    "- Union-intersection and intersection-union tests\n",
    "    * Union-intersection test: $H_0: \\theta \\in \\underset{\\gamma \\in \\Gamma}\\cap \\Theta_{\\gamma}$"
   ]
  },
  {
   "cell_type": "markdown",
   "metadata": {},
   "source": [
    "## 8.3 Methods of Evaluating Tests"
   ]
  }
 ],
 "metadata": {
  "kernelspec": {
   "display_name": "Python 3",
   "language": "python",
   "name": "python3"
  },
  "language_info": {
   "codemirror_mode": {
    "name": "ipython",
    "version": 3
   },
   "file_extension": ".py",
   "mimetype": "text/x-python",
   "name": "python",
   "nbconvert_exporter": "python",
   "pygments_lexer": "ipython3",
   "version": "3.7.0"
  }
 },
 "nbformat": 4,
 "nbformat_minor": 2
}
