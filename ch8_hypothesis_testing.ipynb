{
 "cells": [
  {
   "cell_type": "markdown",
   "metadata": {},
   "source": [
    "## 8.1 Introduction\n",
    "\n",
    "- Test statistic: $W(X_1,..., X_n) = W(X)$"
   ]
  },
  {
   "cell_type": "markdown",
   "metadata": {},
   "source": [
    "## 8.2 Methods of Finding Tests\n",
    "\n",
    "- Likelihood ratio test (LRT): $\\lambda(x) = \\frac{\\underset{\\Theta_0}{\\sup}L(\\theta|x)}{\\underset{\\Theta}{\\sup}L(\\theta|x)}$\n",
    "    * $L(\\theta|x_1,..., x_n) = f(x|\\theta) = \\prod^n_{i=1}f(x_i|\\theta)$\n",
    "    * Denomitor is max probability of observed sample over all possible parameters\n",
    "        - Small likelihood implies rejecting $H_0$\n",
    "        \n",
    "- Bayesian tests"
   ]
  }
 ],
 "metadata": {
  "kernelspec": {
   "display_name": "Python 3",
   "language": "python",
   "name": "python3"
  },
  "language_info": {
   "codemirror_mode": {
    "name": "ipython",
    "version": 3
   },
   "file_extension": ".py",
   "mimetype": "text/x-python",
   "name": "python",
   "nbconvert_exporter": "python",
   "pygments_lexer": "ipython3",
   "version": "3.7.0"
  }
 },
 "nbformat": 4,
 "nbformat_minor": 2
}
